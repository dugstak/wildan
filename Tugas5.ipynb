{
 "cells": [
  {
   "cell_type": "code",
   "execution_count": null,
   "metadata": {},
   "outputs": [],
   "source": [
    "\n",
    "def hitung_IMT(weight, height):\n",
    "    # Menghitung IMT\n",
    "    imt = weight / (height * 2)\n",
    "    return imt\n",
    "\n",
    "def kategori_IMT(imt):\n",
    "    # Menentukan kategori kesehatan berdasarkan IMT\n",
    "    if imt < 18.5:\n",
    "        return \"Underweight\"\n",
    "    elif 18.5 <= imt < 25:\n",
    "        return \"Normal weight\"\n",
    "    elif 25 <= imt < 30:\n",
    "        return \"Overweight\"\n",
    "    else:\n",
    "        return \"Obesity\"\n",
    "\n",
    "def main():\n",
    "    # Loop untuk menerima input dari beberapa orang\n",
    "    while True:\n",
    "        # Input berat dan tinggi badan\n",
    "        try:\n",
    "            weight = float(input(\"Masukkan berat badan (kg): \"))\n",
    "            height = float(input(\"Masukkan tinggi badan (m): \"))\n",
    "        except ValueError:\n",
    "            print(\"Input tidak valid. Silakan masukkan angka.\")\n",
    "            continue\n",
    "        \n",
    "        # Menghitung IMT dan menentukan kategori kesehatan\n",
    "        imt = hitung_IMT(weight, height)\n",
    "        kategori = kategori_IMT(imt)\n",
    "        \n",
    "        # Menampilkan hasil\n",
    "        print(f\"\\nBerat: {weight} kg, Tinggi: {height} m\")\n",
    "        print(f\"IMT: {imt:.2f}\")\n",
    "        print(f\"Kategori Kesehatan: {kategori}\\n\")\n",
    "        \n",
    "        # Menanyakan apakah ingin memasukkan data lain\n",
    "        ulang = input(\"Apakah Anda ingin memasukkan data lain? (y/n): \")\n",
    "        if ulang.lower() != 'y':\n",
    "            break\n",
    "\n",
    "# Menjalankan program utama\n",
    "main()\n"
   ]
  },
  {
   "cell_type": "code",
   "execution_count": 33,
   "metadata": {},
   "outputs": [
    {
     "name": "stdout",
     "output_type": "stream",
     "text": [
      "\n",
      "Berat: 55.0 kg, Tinggi: 1.6 m\n",
      "IMT Anda adalah:  21.48\n",
      "Kategori kesehatan Anda: Normal weight\n"
     ]
    }
   ],
   "source": [
    "def hitung_IMT(berat, tinggi):\n",
    "  imt = berat / (tinggi ** 2)\n",
    "  return imt\n",
    "\n",
    "def kategori_kesehatan(imt):\n",
    "  if imt < 18.5:\n",
    "    return \"Underweight\"\n",
    "  elif 18.5 <= imt < 25:\n",
    "    return \"Normal weight\"\n",
    "  elif 25 <= imt < 30:\n",
    "    return \"Overweight\"\n",
    "  else:\n",
    "    return \"Obesity\"\n",
    "\n",
    "# Program utama\n",
    "while True:\n",
    "  berat = float(input(\"Masukkan berat badan (kg): \"))\n",
    "  tinggi = float(input(\"Masukkan tinggi badan (m): \"))\n",
    "\n",
    "  imt = hitung_IMT(berat, tinggi)\n",
    "  kategori = kategori_kesehatan(imt)\n",
    "\n",
    "  print(f\"\\nBerat: {berat} kg, Tinggi: {tinggi} m\")\n",
    "  print(f\"IMT Anda adalah:  {imt:.2f}\")\n",
    "  print(f\"Kategori kesehatan Anda: {kategori}\")\n",
    "\n",
    "  lanjut = input(\"Ingin menghitung lagi? (y/n): \")\n",
    "  if lanjut.lower() != 'y':\n",
    "    break"
   ]
  }
 ],
 "metadata": {
  "kernelspec": {
   "display_name": "Python 3",
   "language": "python",
   "name": "python3"
  },
  "language_info": {
   "codemirror_mode": {
    "name": "ipython",
    "version": 3
   },
   "file_extension": ".py",
   "mimetype": "text/x-python",
   "name": "python",
   "nbconvert_exporter": "python",
   "pygments_lexer": "ipython3",
   "version": "3.12.7"
  }
 },
 "nbformat": 4,
 "nbformat_minor": 2
}
